{
 "cells": [
  {
   "cell_type": "markdown",
   "id": "ee1226f7",
   "metadata": {},
   "source": [
    "# Library and data importing\n"
   ]
  },
  {
   "cell_type": "code",
   "execution_count": 1,
   "id": "f7ac375e",
   "metadata": {},
   "outputs": [],
   "source": [
    "import numpy as np\n",
    "import pandas as pd\n",
    "import matplotlib.pyplot as plt\n",
    "import string"
   ]
  },
  {
   "cell_type": "code",
   "execution_count": 2,
   "id": "5c38ffce",
   "metadata": {},
   "outputs": [
    {
     "data": {
      "text/plain": [
       "religion               7998\n",
       "age                    7992\n",
       "gender                 7973\n",
       "ethnicity              7961\n",
       "not_cyberbullying      7945\n",
       "other_cyberbullying    7823\n",
       "Name: cyberbullying_type, dtype: int64"
      ]
     },
     "execution_count": 2,
     "metadata": {},
     "output_type": "execute_result"
    }
   ],
   "source": [
    "data = pd.read_csv('cyberbullying_tweets.csv')\n",
    "x = data.iloc[:,0:1].values\n",
    "y = data.iloc[:,-1].values\n",
    "data.cyberbullying_type.value_counts()"
   ]
  },
  {
   "cell_type": "code",
   "execution_count": 3,
   "id": "3f439110",
   "metadata": {},
   "outputs": [
    {
     "data": {
      "text/plain": [
       "0        In other words #katandandre, your food was cra...\n",
       "1        Why is #aussietv so white? #MKR #theblock #ImA...\n",
       "2        @XochitlSuckkks a classy whore? Or more red ve...\n",
       "3        @Jason_Gio meh. :P  thanks for the heads up, b...\n",
       "4        @RudhoeEnglish This is an ISIS account pretend...\n",
       "                               ...                        \n",
       "47687    Black ppl aren't expected to do anything, depe...\n",
       "47688    Turner did not withhold his disappointment. Tu...\n",
       "47689    I swear to God. This dumb nigger bitch. I have...\n",
       "47690    Yea fuck you RT @therealexel: IF YOURE A NIGGE...\n",
       "47691    Bro. U gotta chill RT @CHILLShrammy: Dog FUCK ...\n",
       "Name: tweet_text, Length: 47692, dtype: object"
      ]
     },
     "execution_count": 3,
     "metadata": {},
     "output_type": "execute_result"
    }
   ],
   "source": [
    "data['tweet_text']"
   ]
  },
  {
   "cell_type": "markdown",
   "id": "ee81913d",
   "metadata": {},
   "source": [
    "# Data Extraction"
   ]
  },
  {
   "cell_type": "code",
   "execution_count": 4,
   "id": "184a3cd3",
   "metadata": {},
   "outputs": [],
   "source": [
    "data.tweet_text=[doc.lower() for doc in data.tweet_text] \n",
    "#to lower string"
   ]
  },
  {
   "cell_type": "code",
   "execution_count": 5,
   "id": "c3369719",
   "metadata": {},
   "outputs": [],
   "source": [
    "string.punctuation\n",
    "def remove_Punc(teststring):\n",
    "    newstring = \"\".join([i for i in teststring if i not in string.punctuation])\n",
    "    return newstring\n",
    "data['tweet_text_1']=data['tweet_text'].apply(lambda x : remove_Punc(x))\n",
    "data['tweet_text']=data['tweet_text_1']\n",
    "data['tweet_text'] = [x.replace(\"\\n\\r\",\"\") for x in data['tweet_text']]\n",
    "data.drop('tweet_text_1',axis=1,inplace=True)"
   ]
  },
  {
   "cell_type": "code",
   "execution_count": 6,
   "id": "00ba9cd7",
   "metadata": {},
   "outputs": [
    {
     "data": {
      "text/html": [
       "<div>\n",
       "<style scoped>\n",
       "    .dataframe tbody tr th:only-of-type {\n",
       "        vertical-align: middle;\n",
       "    }\n",
       "\n",
       "    .dataframe tbody tr th {\n",
       "        vertical-align: top;\n",
       "    }\n",
       "\n",
       "    .dataframe thead th {\n",
       "        text-align: right;\n",
       "    }\n",
       "</style>\n",
       "<table border=\"1\" class=\"dataframe\">\n",
       "  <thead>\n",
       "    <tr style=\"text-align: right;\">\n",
       "      <th></th>\n",
       "      <th>tweet_text</th>\n",
       "      <th>cyberbullying_type</th>\n",
       "    </tr>\n",
       "  </thead>\n",
       "  <tbody>\n",
       "    <tr>\n",
       "      <th>0</th>\n",
       "      <td>in other words katandandre your food was crapi...</td>\n",
       "      <td>not_cyberbullying</td>\n",
       "    </tr>\n",
       "    <tr>\n",
       "      <th>1</th>\n",
       "      <td>why is aussietv so white mkr theblock imaceleb...</td>\n",
       "      <td>not_cyberbullying</td>\n",
       "    </tr>\n",
       "    <tr>\n",
       "      <th>2</th>\n",
       "      <td>xochitlsuckkks a classy whore or more red velv...</td>\n",
       "      <td>not_cyberbullying</td>\n",
       "    </tr>\n",
       "    <tr>\n",
       "      <th>3</th>\n",
       "      <td>jasongio meh p  thanks for the heads up but no...</td>\n",
       "      <td>not_cyberbullying</td>\n",
       "    </tr>\n",
       "    <tr>\n",
       "      <th>4</th>\n",
       "      <td>rudhoeenglish this is an isis account pretendi...</td>\n",
       "      <td>not_cyberbullying</td>\n",
       "    </tr>\n",
       "    <tr>\n",
       "      <th>5</th>\n",
       "      <td>raja5aab quickieleaks yes the test of god is t...</td>\n",
       "      <td>not_cyberbullying</td>\n",
       "    </tr>\n",
       "    <tr>\n",
       "      <th>6</th>\n",
       "      <td>itu sekolah ya bukan tempat bully ga jauh kaya...</td>\n",
       "      <td>not_cyberbullying</td>\n",
       "    </tr>\n",
       "    <tr>\n",
       "      <th>7</th>\n",
       "      <td>karma i hope it bites kat on the butt she is j...</td>\n",
       "      <td>not_cyberbullying</td>\n",
       "    </tr>\n",
       "    <tr>\n",
       "      <th>8</th>\n",
       "      <td>stockputout everything but mostly my priest</td>\n",
       "      <td>not_cyberbullying</td>\n",
       "    </tr>\n",
       "    <tr>\n",
       "      <th>9</th>\n",
       "      <td>rebecca black drops out of school due to bullying</td>\n",
       "      <td>not_cyberbullying</td>\n",
       "    </tr>\n",
       "    <tr>\n",
       "      <th>10</th>\n",
       "      <td>jordisdead httptcousqinyw5gn</td>\n",
       "      <td>not_cyberbullying</td>\n",
       "    </tr>\n",
       "    <tr>\n",
       "      <th>11</th>\n",
       "      <td>the bully flushes on kd httptwitvidcoma2tnp</td>\n",
       "      <td>not_cyberbullying</td>\n",
       "    </tr>\n",
       "    <tr>\n",
       "      <th>12</th>\n",
       "      <td>ughhhh mkr</td>\n",
       "      <td>not_cyberbullying</td>\n",
       "    </tr>\n",
       "    <tr>\n",
       "      <th>13</th>\n",
       "      <td>rt kurdsnews turkish state has killed 241 chil...</td>\n",
       "      <td>not_cyberbullying</td>\n",
       "    </tr>\n",
       "    <tr>\n",
       "      <th>14</th>\n",
       "      <td>love that the best response to the hotcakes th...</td>\n",
       "      <td>not_cyberbullying</td>\n",
       "    </tr>\n",
       "    <tr>\n",
       "      <th>15</th>\n",
       "      <td>yasmimcaci bferrarii parem de fazer bullying c...</td>\n",
       "      <td>not_cyberbullying</td>\n",
       "    </tr>\n",
       "    <tr>\n",
       "      <th>16</th>\n",
       "      <td>sarinhacoral victormaggi tadinhu de mim  sofre...</td>\n",
       "      <td>not_cyberbullying</td>\n",
       "    </tr>\n",
       "    <tr>\n",
       "      <th>17</th>\n",
       "      <td>0xabad1dea kelseytheodore2 twitter is basicall...</td>\n",
       "      <td>not_cyberbullying</td>\n",
       "    </tr>\n",
       "    <tr>\n",
       "      <th>18</th>\n",
       "      <td>best pick up line hi youre cute  i love how pe...</td>\n",
       "      <td>not_cyberbullying</td>\n",
       "    </tr>\n",
       "    <tr>\n",
       "      <th>19</th>\n",
       "      <td>now i gotta walk to classss i officially hate ...</td>\n",
       "      <td>not_cyberbullying</td>\n",
       "    </tr>\n",
       "  </tbody>\n",
       "</table>\n",
       "</div>"
      ],
      "text/plain": [
       "                                           tweet_text cyberbullying_type\n",
       "0   in other words katandandre your food was crapi...  not_cyberbullying\n",
       "1   why is aussietv so white mkr theblock imaceleb...  not_cyberbullying\n",
       "2   xochitlsuckkks a classy whore or more red velv...  not_cyberbullying\n",
       "3   jasongio meh p  thanks for the heads up but no...  not_cyberbullying\n",
       "4   rudhoeenglish this is an isis account pretendi...  not_cyberbullying\n",
       "5   raja5aab quickieleaks yes the test of god is t...  not_cyberbullying\n",
       "6   itu sekolah ya bukan tempat bully ga jauh kaya...  not_cyberbullying\n",
       "7   karma i hope it bites kat on the butt she is j...  not_cyberbullying\n",
       "8         stockputout everything but mostly my priest  not_cyberbullying\n",
       "9   rebecca black drops out of school due to bullying  not_cyberbullying\n",
       "10                       jordisdead httptcousqinyw5gn  not_cyberbullying\n",
       "11        the bully flushes on kd httptwitvidcoma2tnp  not_cyberbullying\n",
       "12                                         ughhhh mkr  not_cyberbullying\n",
       "13  rt kurdsnews turkish state has killed 241 chil...  not_cyberbullying\n",
       "14  love that the best response to the hotcakes th...  not_cyberbullying\n",
       "15  yasmimcaci bferrarii parem de fazer bullying c...  not_cyberbullying\n",
       "16  sarinhacoral victormaggi tadinhu de mim  sofre...  not_cyberbullying\n",
       "17  0xabad1dea kelseytheodore2 twitter is basicall...  not_cyberbullying\n",
       "18  best pick up line hi youre cute  i love how pe...  not_cyberbullying\n",
       "19  now i gotta walk to classss i officially hate ...  not_cyberbullying"
      ]
     },
     "execution_count": 6,
     "metadata": {},
     "output_type": "execute_result"
    }
   ],
   "source": [
    "data.head(20)"
   ]
  },
  {
   "cell_type": "code",
   "execution_count": 7,
   "id": "5f9e4af2",
   "metadata": {
    "scrolled": true
   },
   "outputs": [
    {
     "name": "stderr",
     "output_type": "stream",
     "text": [
      "[nltk_data] Downloading package stopwords to\n",
      "[nltk_data]     C:\\Users\\logan\\AppData\\Roaming\\nltk_data...\n",
      "[nltk_data]   Package stopwords is already up-to-date!\n"
     ]
    }
   ],
   "source": [
    "import nltk\n",
    "nltk.download('stopwords')\n",
    "from nltk.corpus import stopwords\n",
    "from nltk.stem.porter import PorterStemmer"
   ]
  },
  {
   "cell_type": "code",
   "execution_count": 8,
   "id": "ed15dbe0",
   "metadata": {},
   "outputs": [],
   "source": [
    "import re \n",
    "import emoji\n",
    "\n",
    "def remove(string):\n",
    "    string=re.sub(r'https?://\\S+|www\\.\\S+','',string)\n",
    "    string=re.sub(r'@[A-Za-z0-9]+','',string)\n",
    "    string=re.sub(emoji.get_emoji_regexp(),'',string)\n",
    "    string=re.sub(r'#','',string)\n",
    "    return string"
   ]
  },
  {
   "cell_type": "code",
   "execution_count": 9,
   "id": "14d8a74d",
   "metadata": {
    "scrolled": false
   },
   "outputs": [
    {
     "name": "stderr",
     "output_type": "stream",
     "text": [
      "<ipython-input-8-64dc1a6a9175>:7: DeprecationWarning: 'emoji.get_emoji_regexp()' is deprecated and will be removed in version 2.0.0. If you want to remove emoji from a string, consider the method emoji.replace_emoji(str, replace='').\n",
      "To hide this warning, pin/downgrade the package to 'emoji~=1.6.3'\n",
      "  string=re.sub(emoji.get_emoji_regexp(),'',string)\n"
     ]
    }
   ],
   "source": [
    "data['tweet_text']=data['tweet_text'].apply(lambda x: remove(x))"
   ]
  },
  {
   "cell_type": "code",
   "execution_count": 10,
   "id": "ceb22e70",
   "metadata": {},
   "outputs": [],
   "source": [
    "from sklearn.preprocessing import LabelEncoder\n",
    "le = LabelEncoder()\n",
    "data['cyberbullying_type'] = le.fit_transform(data['cyberbullying_type'])"
   ]
  },
  {
   "cell_type": "code",
   "execution_count": 11,
   "id": "c4a770da",
   "metadata": {
    "scrolled": true
   },
   "outputs": [
    {
     "data": {
      "text/plain": [
       "5    7998\n",
       "0    7992\n",
       "2    7973\n",
       "1    7961\n",
       "3    7945\n",
       "4    7823\n",
       "Name: cyberbullying_type, dtype: int64"
      ]
     },
     "execution_count": 11,
     "metadata": {},
     "output_type": "execute_result"
    }
   ],
   "source": [
    "data['cyberbullying_type'].value_counts()\n",
    "#religion, age, gender, ethnicity, not, other"
   ]
  },
  {
   "cell_type": "code",
   "execution_count": 12,
   "id": "f6986a78",
   "metadata": {
    "scrolled": true
   },
   "outputs": [
    {
     "data": {
      "text/plain": [
       "['in',\n",
       " 'other',\n",
       " 'words',\n",
       " 'katandandre',\n",
       " 'your',\n",
       " 'food',\n",
       " 'was',\n",
       " 'crapilicious',\n",
       " 'mkr']"
      ]
     },
     "execution_count": 12,
     "metadata": {},
     "output_type": "execute_result"
    }
   ],
   "source": [
    "data['tweet_text'][0].split()"
   ]
  },
  {
   "cell_type": "code",
   "execution_count": 13,
   "id": "071bdad4",
   "metadata": {},
   "outputs": [
    {
     "data": {
      "text/plain": [
       "'xochitlsuckkks a classy whore or more red velvet cupcakes'"
      ]
     },
     "execution_count": 13,
     "metadata": {},
     "output_type": "execute_result"
    }
   ],
   "source": [
    "data.tweet_text[2]"
   ]
  },
  {
   "cell_type": "code",
   "execution_count": 14,
   "id": "ac33d300",
   "metadata": {},
   "outputs": [],
   "source": [
    "#stemming and stopword (NLP)\n",
    "corpus = []\n",
    "ps = PorterStemmer()\n",
    "all_stopwords = stopwords.words('english')\n",
    "all_stopwords.extend(['rt', 'mkr', 'didn', 'bc', 'n', 'm', 'im', 'll', 'y', 've', 'u', 'ur', 'don', 't', 's','etc'])\n",
    "x1 = ''\n",
    "for i in range(0,data['tweet_text'].count()):\n",
    "    tweet = data.tweet_text[i]\n",
    "    tweet = tweet.split()\n",
    "    for word in tweet:\n",
    "        if not word in set(all_stopwords):\n",
    "            x = ps.stem(word)\n",
    "            x1 = x1 + ' ' + x\n",
    "    corpus.append(x1) \n",
    "    x1=' '"
   ]
  },
  {
   "cell_type": "code",
   "execution_count": 15,
   "id": "5bfcb957",
   "metadata": {
    "scrolled": false
   },
   "outputs": [
    {
     "name": "stdout",
     "output_type": "stream",
     "text": [
      "['  keithbishop64 true nice show watch racism incid ricki pick anybodi wasnt white', '  yourfavwhiteguy shut fuck upabout dumb app act like nag nigger', '  black ppl arent expect anyth depend anyth yet free particip work enjoy freedom human across globe wast energi past wast build futur', '  turner withhold disappoint turner call court “abomin conclav negro hate demons” one except “issu anoth decre color men women must driven jim crow car whenev suit whim white community”', '  swear god dumb nigger bitch got bleach hair reeeeeal fuckin soon dlt fuck', '  yea fuck therealexel your nigger fuck unfollow fuck dumb nigger', '  bro gotta chill chillshrammi dog fuck kp dumb nigger bitch lmao']\n"
     ]
    }
   ],
   "source": [
    "print(corpus[47685:])"
   ]
  },
  {
   "cell_type": "code",
   "execution_count": 16,
   "id": "b9305303",
   "metadata": {},
   "outputs": [
    {
     "data": {
      "text/plain": [
       "array([3, 3, 3, ..., 1, 1, 1])"
      ]
     },
     "execution_count": 16,
     "metadata": {},
     "output_type": "execute_result"
    }
   ],
   "source": [
    "data['cyberbullying_type'].values"
   ]
  },
  {
   "cell_type": "markdown",
   "id": "8e0ba065",
   "metadata": {},
   "source": [
    "# Creating a Bag-of-Words"
   ]
  },
  {
   "cell_type": "code",
   "execution_count": null,
   "id": "95b6451b",
   "metadata": {},
   "outputs": [],
   "source": [
    "from sklearn.feature_extraction.text import CountVectorizer\n",
    "cv = CountVectorizer(max_features = 47692)\n",
    "x = cv.fit_transform(corpus).toarray()\n",
    "y = data.cyberbullying_type.values"
   ]
  },
  {
   "cell_type": "code",
   "execution_count": null,
   "id": "81a0b540",
   "metadata": {},
   "outputs": [],
   "source": [
    "from sklearn.model_selection import train_test_split\n",
    "x_train, x_test, y_train, y_test = train_test_split(x, y, test_size = 0.2, random_state = 0)"
   ]
  },
  {
   "cell_type": "markdown",
   "id": "6518054d",
   "metadata": {},
   "source": [
    "# Start training (Naives Bayes)"
   ]
  },
  {
   "cell_type": "code",
   "execution_count": 19,
   "id": "da68ff8f",
   "metadata": {},
   "outputs": [
    {
     "data": {
      "text/plain": [
       "MultinomialNB()"
      ]
     },
     "execution_count": 19,
     "metadata": {},
     "output_type": "execute_result"
    }
   ],
   "source": [
    "#Naive Bayes\n",
    "from sklearn.naive_bayes import MultinomialNB\n",
    "classifier = MultinomialNB()\n",
    "classifier.fit(x_train, y_train)"
   ]
  },
  {
   "cell_type": "code",
   "execution_count": 20,
   "id": "d8d068fa",
   "metadata": {},
   "outputs": [],
   "source": [
    "y_pred = classifier.predict(x_test)"
   ]
  },
  {
   "cell_type": "code",
   "execution_count": 21,
   "id": "0a5949b6",
   "metadata": {},
   "outputs": [
    {
     "name": "stdout",
     "output_type": "stream",
     "text": [
      "[[2 4]\n",
      " [1 4]\n",
      " [5 5]\n",
      " ...\n",
      " [5 5]\n",
      " [3 3]\n",
      " [2 2]]\n"
     ]
    }
   ],
   "source": [
    "print(np.concatenate((y_pred.reshape(len(y_pred),1), y_test.reshape(len(y_test),1)),1))"
   ]
  },
  {
   "cell_type": "code",
   "execution_count": 22,
   "id": "00e86955",
   "metadata": {},
   "outputs": [
    {
     "name": "stdout",
     "output_type": "stream",
     "text": [
      "[[1545    4    2    1    2    3]\n",
      " [  64 1496    9    3   16   39]\n",
      " [  42   45 1360   67   80   32]\n",
      " [ 281   67  124  531  398  171]\n",
      " [ 239  138   99  146  815   82]\n",
      " [   8    4    7   12    2 1605]]\n"
     ]
    },
    {
     "data": {
      "text/plain": [
       "0.7707306845581298"
      ]
     },
     "execution_count": 22,
     "metadata": {},
     "output_type": "execute_result"
    }
   ],
   "source": [
    "#confusion matrix\n",
    "from sklearn.metrics import confusion_matrix, accuracy_score\n",
    "cm = confusion_matrix(y_test, y_pred)\n",
    "print(cm)\n",
    "accuracy_score(y_test, y_pred)"
   ]
  },
  {
   "cell_type": "code",
   "execution_count": 23,
   "id": "063862e0",
   "metadata": {},
   "outputs": [],
   "source": [
    "#false positive -> good !"
   ]
  },
  {
   "cell_type": "code",
   "execution_count": 24,
   "id": "5d771997",
   "metadata": {},
   "outputs": [
    {
     "data": {
      "text/plain": [
       "['MulNB.pkl']"
      ]
     },
     "execution_count": 24,
     "metadata": {},
     "output_type": "execute_result"
    }
   ],
   "source": [
    "import joblib\n",
    "joblib.dump(classifier,'MulNB.pkl')"
   ]
  },
  {
   "cell_type": "markdown",
   "id": "211c69b0",
   "metadata": {},
   "source": [
    "# Random Forest"
   ]
  },
  {
   "cell_type": "code",
   "execution_count": 25,
   "id": "f10a3e30",
   "metadata": {},
   "outputs": [
    {
     "data": {
      "text/plain": [
       "RandomForestClassifier(criterion='entropy', random_state=0)"
      ]
     },
     "execution_count": 25,
     "metadata": {},
     "output_type": "execute_result"
    }
   ],
   "source": [
    "from sklearn.ensemble import RandomForestClassifier\n",
    "classifier = RandomForestClassifier(n_estimators = 100, criterion = 'entropy', random_state = 0)\n",
    "classifier.fit(x_train, y_train)"
   ]
  },
  {
   "cell_type": "code",
   "execution_count": 26,
   "id": "87758c72",
   "metadata": {},
   "outputs": [],
   "source": [
    "y_pred = classifier.predict(x_test)"
   ]
  },
  {
   "cell_type": "code",
   "execution_count": 27,
   "id": "57ddba64",
   "metadata": {},
   "outputs": [
    {
     "name": "stdout",
     "output_type": "stream",
     "text": [
      "[[3 4]\n",
      " [4 4]\n",
      " [5 5]\n",
      " ...\n",
      " [5 5]\n",
      " [3 3]\n",
      " [2 2]]\n"
     ]
    }
   ],
   "source": [
    "print(np.concatenate((y_pred.reshape(len(y_pred),1), y_test.reshape(len(y_test),1)),1))"
   ]
  },
  {
   "cell_type": "code",
   "execution_count": 28,
   "id": "bcc7f8d1",
   "metadata": {
    "scrolled": true
   },
   "outputs": [
    {
     "name": "stdout",
     "output_type": "stream",
     "text": [
      "[[1519    1    1   23   11    2]\n",
      " [   4 1595    4    7   14    3]\n",
      " [   4    5 1358  108  147    4]\n",
      " [  26    6   59  797  637   47]\n",
      " [  18    9   72  480  938    2]\n",
      " [   0    1   10   48   19 1560]]\n"
     ]
    },
    {
     "data": {
      "text/plain": [
       "0.8142362931124856"
      ]
     },
     "execution_count": 28,
     "metadata": {},
     "output_type": "execute_result"
    }
   ],
   "source": [
    "#confusion matrix\n",
    "from sklearn.metrics import confusion_matrix, accuracy_score\n",
    "cm1 = confusion_matrix(y_test, y_pred)\n",
    "print(cm1)\n",
    "accuracy_score(y_test, y_pred)"
   ]
  },
  {
   "cell_type": "code",
   "execution_count": 29,
   "id": "933e56c7",
   "metadata": {},
   "outputs": [
    {
     "data": {
      "text/plain": [
       "['RD.pkl']"
      ]
     },
     "execution_count": 29,
     "metadata": {},
     "output_type": "execute_result"
    }
   ],
   "source": [
    "import joblib\n",
    "joblib.dump(classifier,'RD.pkl')"
   ]
  },
  {
   "cell_type": "markdown",
   "id": "8d1085dc",
   "metadata": {},
   "source": [
    "# Load \n"
   ]
  },
  {
   "cell_type": "code",
   "execution_count": null,
   "id": "da45051a",
   "metadata": {},
   "outputs": [],
   "source": [
    "from sklearn.ensemble import RandomForestClassifier"
   ]
  },
  {
   "cell_type": "code",
   "execution_count": null,
   "id": "24117e62",
   "metadata": {},
   "outputs": [],
   "source": [
    "import joblib\n",
    "joblib.load('RD.pkl')"
   ]
  },
  {
   "cell_type": "code",
   "execution_count": null,
   "id": "c917e067",
   "metadata": {},
   "outputs": [],
   "source": []
  }
 ],
 "metadata": {
  "kernelspec": {
   "display_name": "Python 3",
   "language": "python",
   "name": "python3"
  },
  "language_info": {
   "codemirror_mode": {
    "name": "ipython",
    "version": 3
   },
   "file_extension": ".py",
   "mimetype": "text/x-python",
   "name": "python",
   "nbconvert_exporter": "python",
   "pygments_lexer": "ipython3",
   "version": "3.8.8"
  }
 },
 "nbformat": 4,
 "nbformat_minor": 5
}
